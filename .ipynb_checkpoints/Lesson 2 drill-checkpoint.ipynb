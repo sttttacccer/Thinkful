{
 "cells": [
  {
   "cell_type": "markdown",
   "metadata": {},
   "source": [
    "Lesson 2 Drill\n",
    "1. Data Source: Amsterdam availability data scraped from AirBnB on December 24th. Question: What are the popular neighborhoods in Amsterdam?\n",
    "\n",
    "A: Pick different date other than any holidays OR\n",
    "\n",
    "What are the popular locations people would like to stay during holiday season in Amsterdam.\n",
    "\n",
    "2. Data Source: Mental health services use on September 12, 2001 in San Francisco, CA and New York City, NY. Question: How do patterns of mental health service use vary between cities?\n",
    "\n",
    "A: Compare mental health services use in NYC before and after Sep 11, 2001 OR  \n",
    "How did catastrophe affect mental health service usages between cities?\n",
    "\n",
    "3. Data Source: Armenian Pub Survey. Question: What are the most common reasons Armenians visit local pubs?\n",
    "\n",
    "A: What are the most common reasons Armenians students visit local pubs?\n",
    "\n",
    "\n",
    "Monty Hall Problem\n",
    "\n",
    "Let's say \n",
    "\n",
    "door d1,d2,d3\n",
    "me \n",
    "host\n",
    "empty\n",
    "prize\n",
    "\n",
    "d1(I chose)        d3(host picked)       d2               switch      not switch\n",
    "empty             empty                  car               win           nothing                  \n",
    "car               empty                 empty             nothing         win\n",
    "empty             car(but host swithed) empty              win            nothing \n",
    "\n",
    "so it's more possible to win the prize by swithing the door.\n",
    "\n",
    "If not switch the P(prize)=1/3\n",
    "if switch, P=2/3\n",
    "\n"
   ]
  }
 ],
 "metadata": {
  "kernelspec": {
   "display_name": "Python 3",
   "language": "python",
   "name": "python3"
  },
  "language_info": {
   "codemirror_mode": {
    "name": "ipython",
    "version": 3
   },
   "file_extension": ".py",
   "mimetype": "text/x-python",
   "name": "python",
   "nbconvert_exporter": "python",
   "pygments_lexer": "ipython3",
   "version": "3.6.3"
  }
 },
 "nbformat": 4,
 "nbformat_minor": 2
}

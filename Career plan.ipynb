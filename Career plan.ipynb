{
 "cells": [
  {
   "cell_type": "markdown",
   "metadata": {},
   "source": [
    "Describe your ideal job in one or two paragraphs as though you're talking with an industry professional. They're familiar with the business and with the culture, they know the jargon and the buzzwords. Focus on the skills, tools, and / or industry you hope to deeply specialize in.\n",
    "\n",
    "\n",
    "Answer: My ideal job would be a materials quality engineer who will be responsible for working with Quality, Technical Service, and I&T to develop testing methods and meet continuous improvement and product development needs.My ideal job description would include root cause analysis, ISO knowledge, working an industrial or manufacturing environment."
   ]
  },
  {
   "cell_type": "markdown",
   "metadata": {},
   "source": [
    "Describe your ideal job in one or two paragraphs as though you're talking with a non-technical family member or friend. Avoid jargon and keep things simple while remaining specific. If you went deep in your specialization above, emphasize here the breadth of skills and work.\n",
    "\n",
    "Answer: My ideal job is in a role that serves as the customer liaison regarding production quality and any concerns and be capable of handling large datasets.\n"
   ]
  },
  {
   "attachments": {},
   "cell_type": "markdown",
   "metadata": {},
   "source": [
    "Synthesize the two exercises above into a short aspirational \"professional summary\" that might be appropriate \n",
    "on your LinkedIn profile, resume, or portfolio in the future.\n",
    " \n",
    "Answer: \n",
    "\n",
    "I have a keen ability to bring in projects on quality control, materials selection and analytical testings for 4 years. My role was to be the liaison between production and customers. I am highly capable, energetic, flexible, detail-oriented quality professional who is seeking for an senior engineer role in lean manufacturing environments. Diversified skills include instrumental analysis, mechanical testing, project management, and eager to learn more. Excellent communication and database skills. "
   ]
  }
 ],
 "metadata": {
  "kernelspec": {
   "display_name": "Python 3",
   "language": "python",
   "name": "python3"
  },
  "language_info": {
   "codemirror_mode": {
    "name": "ipython",
    "version": 3
   },
   "file_extension": ".py",
   "mimetype": "text/x-python",
   "name": "python",
   "nbconvert_exporter": "python",
   "pygments_lexer": "ipython3",
   "version": "3.6.3"
  }
 },
 "nbformat": 4,
 "nbformat_minor": 2
}
